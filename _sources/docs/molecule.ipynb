{
 "cells": [
  {
   "cell_type": "markdown",
   "metadata": {},
   "source": [
    "# Molecule"
   ]
  },
  {
   "cell_type": "markdown",
   "metadata": {},
   "source": [
    "A detailed list of keyword can be found in the [molecule section](./keywords.ipynb#molecule) of the [Input file keywords page](./keywords.ipynb). There is different ways to create a molecule object such as using a smile string, an xyz string or a xyz input files.\n",
    "\n",
    "**Python script**"
   ]
  },
  {
   "cell_type": "code",
   "execution_count": 1,
   "metadata": {},
   "outputs": [
    {
     "ename": "ImportError",
     "evalue": "dlopen(/Users/panor/miniconda3/envs/echem/lib/python3.12/site-packages/veloxchem/veloxchemlib.cpython-312-darwin.so, 0x0002): Library not loaded: @rpath/libgfortran.5.dylib\n  Referenced from: <CAA510D4-816A-34E5-9021-485EF5D56159> /Users/panor/miniconda3/envs/echem/lib/libopenblas.0.dylib\n  Reason: tried: '/Users/panor/miniconda3/envs/echem/lib/libgfortran.5.dylib' (duplicate LC_RPATH '@loader_path'), '/Users/panor/miniconda3/envs/echem/lib/libgfortran.5.dylib' (duplicate LC_RPATH '@loader_path'), '/Users/panor/miniconda3/envs/echem/lib/python3.12/site-packages/veloxchem/../../../../lib/libgfortran.5.dylib' (duplicate LC_RPATH '@loader_path'), '/Users/panor/miniconda3/envs/echem/lib/python3.12/site-packages/veloxchem/../../../libgfortran.5.dylib' (duplicate LC_RPATH '@loader_path'), '/Users/panor/miniconda3/envs/echem/lib/python3.12/site-packages/veloxchem/../../../../lib/libgfortran.5.dylib' (duplicate LC_RPATH '@loader_path'), '/Users/panor/miniconda3/envs/echem/lib/python3.12/site-packages/veloxchem/../../../libgfortran.5.dylib' (duplicate LC_RPATH '@loader_path'), '/Users/panor/miniconda3/envs/echem/bin/../lib/libgfortran.5.dylib' (duplicate LC_RPATH '@loader_path'), '/Users/panor/miniconda3/envs/echem/bin/../lib/libgfortran.5.dylib' (duplicate LC_RPATH '@loader_path'), '/usr/local/lib/libgfortran.5.dylib' (no such file), '/usr/lib/libgfortran.5.dylib' (no such file, not in dyld cache)Library not loaded: @rpath/libgfortran.5.dylib\n  Referenced from: <C6991033-5FD1-3ED0-9244-DFF142EB9D6C> /Users/panor/miniconda3/envs/echem/lib/libxtb.6.dylib\n  Reason: tried: '/Users/panor/miniconda3/envs/echem/lib/libgfortran.5.dylib' (duplicate LC_RPATH '@loader_path'), '/Users/panor/miniconda3/envs/echem/lib/libgfortran.5.dylib' (duplicate LC_RPATH '@loader_path'), '/Users/panor/miniconda3/envs/echem/lib/python3.12/site-packages/veloxchem/../../../../lib/libgfortran.5.dylib' (duplicate LC_RPATH '@loader_path'), '/Users/panor/miniconda3/envs/echem/lib/python3.12/site-packages/veloxchem/../../../libgfortran.5.dylib' (duplicate LC_RPATH '@loader_path'), '/Users/panor/miniconda3/envs/echem/lib/python3.12/site-packages/veloxchem/../../../../lib/libgfortran.5.dylib' (duplicate LC_RPATH '@loader_path'), '/Users/panor/miniconda3/envs/echem/lib/python3.12/site-packages/veloxchem/../../../libgfortran.5.dylib' (duplicate LC_RPATH '@loader_path'), '/Users/panor/miniconda3/envs/echem/bin/../lib/libgfortran.5.dylib' (duplicate LC_RPATH '@loader_path'), '/Users/panor/miniconda3/envs/echem/bin/../lib/libgfortran.5.dylib' (duplicate LC_RPATH '@loader_path'), '/usr/local/lib/libgfortran.5.dylib' (no such file), '/usr/lib/libgfortran.5.dylib' (no such file, not in dyld cache)",
     "output_type": "error",
     "traceback": [
      "\u001b[0;31m---------------------------------------------------------------------------\u001b[0m",
      "\u001b[0;31mImportError\u001b[0m                               Traceback (most recent call last)",
      "Cell \u001b[0;32mIn[1], line 1\u001b[0m\n\u001b[0;32m----> 1\u001b[0m \u001b[38;5;28;01mimport\u001b[39;00m\u001b[38;5;250m \u001b[39m\u001b[38;5;21;01mveloxchem\u001b[39;00m\u001b[38;5;250m \u001b[39m\u001b[38;5;28;01mas\u001b[39;00m\u001b[38;5;250m \u001b[39m\u001b[38;5;21;01mvlx\u001b[39;00m\n\u001b[1;32m      3\u001b[0m xyz_str \u001b[38;5;241m=\u001b[39m \u001b[38;5;124m\"\"\"\u001b[39m\n\u001b[1;32m      4\u001b[0m \u001b[38;5;124m3\u001b[39m\n\u001b[1;32m      5\u001b[0m \n\u001b[0;32m   (...)\u001b[0m\n\u001b[1;32m      8\u001b[0m \u001b[38;5;124mH   -0.7493682    0.0000000    0.4424329\u001b[39m\n\u001b[1;32m      9\u001b[0m \u001b[38;5;124m\"\"\"\u001b[39m\n\u001b[1;32m     11\u001b[0m h2o \u001b[38;5;241m=\u001b[39m vlx\u001b[38;5;241m.\u001b[39mMolecule\u001b[38;5;241m.\u001b[39mread_xyz_string(xyz_str)\n",
      "File \u001b[0;32m~/miniconda3/envs/echem/lib/python3.12/site-packages/veloxchem/__init__.py:26\u001b[0m\n\u001b[1;32m      1\u001b[0m \u001b[38;5;66;03m#\u001b[39;00m\n\u001b[1;32m      2\u001b[0m \u001b[38;5;66;03m#                              VELOXCHEM\u001b[39;00m\n\u001b[1;32m      3\u001b[0m \u001b[38;5;66;03m#         ----------------------------------------------------\u001b[39;00m\n\u001b[0;32m   (...)\u001b[0m\n\u001b[1;32m     24\u001b[0m \n\u001b[1;32m     25\u001b[0m \u001b[38;5;66;03m# C++ classes\u001b[39;00m\n\u001b[0;32m---> 26\u001b[0m \u001b[38;5;28;01mfrom\u001b[39;00m\u001b[38;5;250m \u001b[39m\u001b[38;5;21;01m.\u001b[39;00m\u001b[38;5;21;01mveloxchemlib\u001b[39;00m\u001b[38;5;250m \u001b[39m\u001b[38;5;28;01mimport\u001b[39;00m AtomBasis\n\u001b[1;32m     27\u001b[0m \u001b[38;5;28;01mfrom\u001b[39;00m\u001b[38;5;250m \u001b[39m\u001b[38;5;21;01m.\u001b[39;00m\u001b[38;5;21;01mveloxchemlib\u001b[39;00m\u001b[38;5;250m \u001b[39m\u001b[38;5;28;01mimport\u001b[39;00m BasisFunction\n\u001b[1;32m     28\u001b[0m \u001b[38;5;28;01mfrom\u001b[39;00m\u001b[38;5;250m \u001b[39m\u001b[38;5;21;01m.\u001b[39;00m\u001b[38;5;21;01mveloxchemlib\u001b[39;00m\u001b[38;5;250m \u001b[39m\u001b[38;5;28;01mimport\u001b[39;00m OverlapDriver\n",
      "\u001b[0;31mImportError\u001b[0m: dlopen(/Users/panor/miniconda3/envs/echem/lib/python3.12/site-packages/veloxchem/veloxchemlib.cpython-312-darwin.so, 0x0002): Library not loaded: @rpath/libgfortran.5.dylib\n  Referenced from: <CAA510D4-816A-34E5-9021-485EF5D56159> /Users/panor/miniconda3/envs/echem/lib/libopenblas.0.dylib\n  Reason: tried: '/Users/panor/miniconda3/envs/echem/lib/libgfortran.5.dylib' (duplicate LC_RPATH '@loader_path'), '/Users/panor/miniconda3/envs/echem/lib/libgfortran.5.dylib' (duplicate LC_RPATH '@loader_path'), '/Users/panor/miniconda3/envs/echem/lib/python3.12/site-packages/veloxchem/../../../../lib/libgfortran.5.dylib' (duplicate LC_RPATH '@loader_path'), '/Users/panor/miniconda3/envs/echem/lib/python3.12/site-packages/veloxchem/../../../libgfortran.5.dylib' (duplicate LC_RPATH '@loader_path'), '/Users/panor/miniconda3/envs/echem/lib/python3.12/site-packages/veloxchem/../../../../lib/libgfortran.5.dylib' (duplicate LC_RPATH '@loader_path'), '/Users/panor/miniconda3/envs/echem/lib/python3.12/site-packages/veloxchem/../../../libgfortran.5.dylib' (duplicate LC_RPATH '@loader_path'), '/Users/panor/miniconda3/envs/echem/bin/../lib/libgfortran.5.dylib' (duplicate LC_RPATH '@loader_path'), '/Users/panor/miniconda3/envs/echem/bin/../lib/libgfortran.5.dylib' (duplicate LC_RPATH '@loader_path'), '/usr/local/lib/libgfortran.5.dylib' (no such file), '/usr/lib/libgfortran.5.dylib' (no such file, not in dyld cache)Library not loaded: @rpath/libgfortran.5.dylib\n  Referenced from: <C6991033-5FD1-3ED0-9244-DFF142EB9D6C> /Users/panor/miniconda3/envs/echem/lib/libxtb.6.dylib\n  Reason: tried: '/Users/panor/miniconda3/envs/echem/lib/libgfortran.5.dylib' (duplicate LC_RPATH '@loader_path'), '/Users/panor/miniconda3/envs/echem/lib/libgfortran.5.dylib' (duplicate LC_RPATH '@loader_path'), '/Users/panor/miniconda3/envs/echem/lib/python3.12/site-packages/veloxchem/../../../../lib/libgfortran.5.dylib' (duplicate LC_RPATH '@loader_path'), '/Users/panor/miniconda3/envs/echem/lib/python3.12/site-packages/veloxchem/../../../libgfortran.5.dylib' (duplicate LC_RPATH '@loader_path'), '/Users/panor/miniconda3/envs/echem/lib/python3.12/site-packages/veloxchem/../../../../lib/libgfortran.5.dylib' (duplicate LC_RPATH '@loader_path'), '/Users/panor/miniconda3/envs/echem/lib/python3.12/site-packages/veloxchem/../../../libgfortran.5.dylib' (duplicate LC_RPATH '@loader_path'), '/Users/panor/miniconda3/envs/echem/bin/../lib/libgfortran.5.dylib' (duplicate LC_RPATH '@loader_path'), '/Users/panor/miniconda3/envs/echem/bin/../lib/libgfortran.5.dylib' (duplicate LC_RPATH '@loader_path'), '/usr/local/lib/libgfortran.5.dylib' (no such file), '/usr/lib/libgfortran.5.dylib' (no such file, not in dyld cache)"
     ]
    }
   ],
   "source": [
    "import veloxchem as vlx\n",
    "\n",
    "xyz_str = \"\"\"\n",
    "3\n",
    "\n",
    "O    0.0000000    0.0000000   -0.1653507\n",
    "H    0.7493682    0.0000000    0.4424329\n",
    "H   -0.7493682    0.0000000    0.4424329\n",
    "\"\"\"\n",
    "\n",
    "h2o = vlx.Molecule.read_xyz_string(xyz_str)\n",
    "aspirin = vlx.Molecule.read_smiles('CC(=O)OC1=CC=CC=C1C(=O)O')\n",
    "tq = vlx.Molecule.read_xyz_file('../input_files/tq-polymer.xyz')\n",
    "\n",
    "h2o.show(atom_indices=True, atom_labels=True)\n",
    "aspirin.show(atom_indices=True)\n",
    "tq.show()"
   ]
  },
  {
   "cell_type": "markdown",
   "metadata": {},
   "source": [
    "Conformation of the molecule can be altered using the ```set_dihedral_in_degrees``` function as explained in the next cell."
   ]
  },
  {
   "cell_type": "code",
   "execution_count": 10,
   "metadata": {},
   "outputs": [
    {
     "data": {
      "application/3dmoljs_load.v0": "<div id=\"3dmolviewer_17473142850764637\"  style=\"position: relative; width: 400px; height: 300px;\">\n        <p id=\"3dmolwarning_17473142850764637\" style=\"background-color:#ffcccc;color:black\">3Dmol.js failed to load for some reason.  Please check your browser console for error messages.<br></p>\n        </div>\n<script>\n\nvar loadScriptAsync = function(uri){\n  return new Promise((resolve, reject) => {\n    //this is to ignore the existence of requirejs amd\n    var savedexports, savedmodule;\n    if (typeof exports !== 'undefined') savedexports = exports;\n    else exports = {}\n    if (typeof module !== 'undefined') savedmodule = module;\n    else module = {}\n\n    var tag = document.createElement('script');\n    tag.src = uri;\n    tag.async = true;\n    tag.onload = () => {\n        exports = savedexports;\n        module = savedmodule;\n        resolve();\n    };\n  var firstScriptTag = document.getElementsByTagName('script')[0];\n  firstScriptTag.parentNode.insertBefore(tag, firstScriptTag);\n});\n};\n\nif(typeof $3Dmolpromise === 'undefined') {\n$3Dmolpromise = null;\n  $3Dmolpromise = loadScriptAsync('https://cdnjs.cloudflare.com/ajax/libs/3Dmol/2.4.2/3Dmol-min.js');\n}\n\nvar viewer_17473142850764637 = null;\nvar warn = document.getElementById(\"3dmolwarning_17473142850764637\");\nif(warn) {\n    warn.parentNode.removeChild(warn);\n}\n$3Dmolpromise.then(function() {\nviewer_17473142850764637 = $3Dmol.createViewer(document.getElementById(\"3dmolviewer_17473142850764637\"),{backgroundColor:\"white\"});\nviewer_17473142850764637.zoomTo();\n\tviewer_17473142850764637.addModel(\"4\\n\\nO              2.045467000000        -0.774747000000         1.060144000000\\nO              1.994263000000         0.532849000000         0.911917000000\\nH              1.291706000000        -0.990544000000         1.666890000000\\nH              2.748023708423         0.748644663972         0.305171414165\\n\");\n\tviewer_17473142850764637.setViewStyle({\"style\": \"outline\", \"width\": 0.05});\n\tviewer_17473142850764637.setStyle({\"stick\": {}, \"sphere\": {\"scale\": 0.25}});\n\tviewer_17473142850764637.addLabel(\"1\",{\"position\": {\"x\": 2.045467, \"y\": -0.774747, \"z\": 1.0601439999999998}, \"alignment\": \"center\", \"fontColor\": 0, \"backgroundColor\": 16777215, \"backgroundOpacity\": 0.0});\n\tviewer_17473142850764637.addLabel(\"2\",{\"position\": {\"x\": 1.9942629999999997, \"y\": 0.532849, \"z\": 0.911917}, \"alignment\": \"center\", \"fontColor\": 0, \"backgroundColor\": 16777215, \"backgroundOpacity\": 0.0});\n\tviewer_17473142850764637.addLabel(\"3\",{\"position\": {\"x\": 1.291706, \"y\": -0.990544, \"z\": 1.66689}, \"alignment\": \"center\", \"fontColor\": 0, \"backgroundColor\": 16777215, \"backgroundOpacity\": 0.0});\n\tviewer_17473142850764637.addLabel(\"4\",{\"position\": {\"x\": 2.748023708422624, \"y\": 0.7486446639715176, \"z\": 0.30517141416495225}, \"alignment\": \"center\", \"fontColor\": 0, \"backgroundColor\": 16777215, \"backgroundOpacity\": 0.0});\n\tviewer_17473142850764637.zoomTo();\nviewer_17473142850764637.render();\n});\n</script>",
      "text/html": [
       "<div id=\"3dmolviewer_17473142850764637\"  style=\"position: relative; width: 400px; height: 300px;\">\n",
       "        <p id=\"3dmolwarning_17473142850764637\" style=\"background-color:#ffcccc;color:black\">3Dmol.js failed to load for some reason.  Please check your browser console for error messages.<br></p>\n",
       "        </div>\n",
       "<script>\n",
       "\n",
       "var loadScriptAsync = function(uri){\n",
       "  return new Promise((resolve, reject) => {\n",
       "    //this is to ignore the existence of requirejs amd\n",
       "    var savedexports, savedmodule;\n",
       "    if (typeof exports !== 'undefined') savedexports = exports;\n",
       "    else exports = {}\n",
       "    if (typeof module !== 'undefined') savedmodule = module;\n",
       "    else module = {}\n",
       "\n",
       "    var tag = document.createElement('script');\n",
       "    tag.src = uri;\n",
       "    tag.async = true;\n",
       "    tag.onload = () => {\n",
       "        exports = savedexports;\n",
       "        module = savedmodule;\n",
       "        resolve();\n",
       "    };\n",
       "  var firstScriptTag = document.getElementsByTagName('script')[0];\n",
       "  firstScriptTag.parentNode.insertBefore(tag, firstScriptTag);\n",
       "});\n",
       "};\n",
       "\n",
       "if(typeof $3Dmolpromise === 'undefined') {\n",
       "$3Dmolpromise = null;\n",
       "  $3Dmolpromise = loadScriptAsync('https://cdnjs.cloudflare.com/ajax/libs/3Dmol/2.4.2/3Dmol-min.js');\n",
       "}\n",
       "\n",
       "var viewer_17473142850764637 = null;\n",
       "var warn = document.getElementById(\"3dmolwarning_17473142850764637\");\n",
       "if(warn) {\n",
       "    warn.parentNode.removeChild(warn);\n",
       "}\n",
       "$3Dmolpromise.then(function() {\n",
       "viewer_17473142850764637 = $3Dmol.createViewer(document.getElementById(\"3dmolviewer_17473142850764637\"),{backgroundColor:\"white\"});\n",
       "viewer_17473142850764637.zoomTo();\n",
       "\tviewer_17473142850764637.addModel(\"4\\n\\nO              2.045467000000        -0.774747000000         1.060144000000\\nO              1.994263000000         0.532849000000         0.911917000000\\nH              1.291706000000        -0.990544000000         1.666890000000\\nH              2.748023708423         0.748644663972         0.305171414165\\n\");\n",
       "\tviewer_17473142850764637.setViewStyle({\"style\": \"outline\", \"width\": 0.05});\n",
       "\tviewer_17473142850764637.setStyle({\"stick\": {}, \"sphere\": {\"scale\": 0.25}});\n",
       "\tviewer_17473142850764637.addLabel(\"1\",{\"position\": {\"x\": 2.045467, \"y\": -0.774747, \"z\": 1.0601439999999998}, \"alignment\": \"center\", \"fontColor\": 0, \"backgroundColor\": 16777215, \"backgroundOpacity\": 0.0});\n",
       "\tviewer_17473142850764637.addLabel(\"2\",{\"position\": {\"x\": 1.9942629999999997, \"y\": 0.532849, \"z\": 0.911917}, \"alignment\": \"center\", \"fontColor\": 0, \"backgroundColor\": 16777215, \"backgroundOpacity\": 0.0});\n",
       "\tviewer_17473142850764637.addLabel(\"3\",{\"position\": {\"x\": 1.291706, \"y\": -0.990544, \"z\": 1.66689}, \"alignment\": \"center\", \"fontColor\": 0, \"backgroundColor\": 16777215, \"backgroundOpacity\": 0.0});\n",
       "\tviewer_17473142850764637.addLabel(\"4\",{\"position\": {\"x\": 2.748023708422624, \"y\": 0.7486446639715176, \"z\": 0.30517141416495225}, \"alignment\": \"center\", \"fontColor\": 0, \"backgroundColor\": 16777215, \"backgroundOpacity\": 0.0});\n",
       "\tviewer_17473142850764637.zoomTo();\n",
       "viewer_17473142850764637.render();\n",
       "});\n",
       "</script>"
      ]
     },
     "metadata": {},
     "output_type": "display_data"
    }
   ],
   "source": [
    "h2o2 = vlx.Molecule.read_smiles('OO')\n",
    "h2o2.set_dihedral_in_degrees([3,1,2,4],180.0)\n",
    "h2o2.show(atom_indices=True)"
   ]
  },
  {
   "cell_type": "markdown",
   "metadata": {},
   "source": [
    "The charge and multiplicity of a molecule can be adjusted using the  ```set_charge ``` and  ```set_multiplicity ``` functions. In the example below, we create a molecule object for the phenyl radical cation."
   ]
  },
  {
   "cell_type": "code",
   "execution_count": null,
   "metadata": {},
   "outputs": [],
   "source": [
    "phenyl= vlx.Molecule.read_smiles('c1ccccc1')\n",
    "phenyl.set_charge(1)\n",
    "phenyl.set_multiplicity(2)\n"
   ]
  },
  {
   "cell_type": "markdown",
   "metadata": {},
   "source": [
    "**Text file**"
   ]
  },
  {
   "cell_type": "markdown",
   "metadata": {},
   "source": [
    "In Veloxchem text input file, charge and multiplicity are specified, the geometry can either be specified with ```xyz``` or ```xyz_file```.\n",
    "\n",
    "```\n",
    "@molecule\n",
    "charge: 0\n",
    "multiplicity: 1\n",
    "xyz:\n",
    "O    0.0000000    0.0000000   -0.1653507\n",
    "H    0.7493682    0.0000000    0.4424329\n",
    "H   -0.7493682    0.0000000    0.4424329                     \n",
    "@end\n",
    "```\n",
    "\n",
    "```\n",
    "@molecule\n",
    "charge: 0\n",
    "multiplicity: 1\n",
    "xyz_file: '../input_files/tq-polymer.xyz'\n",
    "```\n"
   ]
  },
  {
   "cell_type": "markdown",
   "metadata": {},
   "source": []
  }
 ],
 "metadata": {
  "kernelspec": {
   "display_name": "Python 3 (ipykernel)",
   "language": "python",
   "name": "python3"
  },
  "language_info": {
   "codemirror_mode": {
    "name": "ipython",
    "version": 3
   },
   "file_extension": ".py",
   "mimetype": "text/x-python",
   "name": "python",
   "nbconvert_exporter": "python",
   "pygments_lexer": "ipython3",
   "version": "3.12.9"
  }
 },
 "nbformat": 4,
 "nbformat_minor": 4
}
