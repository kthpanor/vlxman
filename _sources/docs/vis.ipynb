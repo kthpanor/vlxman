{
 "cells": [
  {
   "cell_type": "markdown",
   "id": "bbdcc908",
   "metadata": {},
   "source": [
    "# Jupyter notebooks\n",
    "## Molecular structure"
   ]
  },
  {
   "cell_type": "markdown",
   "id": "c009e31c",
   "metadata": {},
   "source": [
    "In Jupyter notebook, a Veloxchem molecule object can be visualiza using the show function. This is powevered by Py3DMol. The atom_indices and atom_labels options can be used."
   ]
  },
  {
   "cell_type": "code",
   "execution_count": 5,
   "id": "df335b64",
   "metadata": {},
   "outputs": [
    {
     "data": {
      "application/3dmoljs_load.v0": "<div id=\"3dmolviewer_17470595117851934\"  style=\"position: relative; width: 400px; height: 300px;\">\n        <p id=\"3dmolwarning_17470595117851934\" style=\"background-color:#ffcccc;color:black\">3Dmol.js failed to load for some reason.  Please check your browser console for error messages.<br></p>\n        </div>\n<script>\n\nvar loadScriptAsync = function(uri){\n  return new Promise((resolve, reject) => {\n    //this is to ignore the existence of requirejs amd\n    var savedexports, savedmodule;\n    if (typeof exports !== 'undefined') savedexports = exports;\n    else exports = {}\n    if (typeof module !== 'undefined') savedmodule = module;\n    else module = {}\n\n    var tag = document.createElement('script');\n    tag.src = uri;\n    tag.async = true;\n    tag.onload = () => {\n        exports = savedexports;\n        module = savedmodule;\n        resolve();\n    };\n  var firstScriptTag = document.getElementsByTagName('script')[0];\n  firstScriptTag.parentNode.insertBefore(tag, firstScriptTag);\n});\n};\n\nif(typeof $3Dmolpromise === 'undefined') {\n$3Dmolpromise = null;\n  $3Dmolpromise = loadScriptAsync('https://cdnjs.cloudflare.com/ajax/libs/3Dmol/2.4.2/3Dmol-min.js');\n}\n\nvar viewer_17470595117851934 = null;\nvar warn = document.getElementById(\"3dmolwarning_17470595117851934\");\nif(warn) {\n    warn.parentNode.removeChild(warn);\n}\n$3Dmolpromise.then(function() {\nviewer_17470595117851934 = $3Dmol.createViewer(document.getElementById(\"3dmolviewer_17470595117851934\"),{backgroundColor:\"white\"});\nviewer_17470595117851934.zoomTo();\n\tviewer_17470595117851934.addModel(\"15\\n\\nC             -1.810808000000        -0.240287000000         2.476861000000\\nC             -0.576902000000         0.303662000000         2.112976000000\\nC              0.114382000000        -0.201272000000         1.007051000000\\nC             -0.425318000000        -1.259149000000         0.252723000000\\nC             -1.669690000000        -1.799661000000         0.628682000000\\nC             -2.356468000000        -1.290713000000         1.735507000000\\nC              0.307098000000        -1.792283000000        -0.916964000000\\nO             -0.174668000000        -2.740386000000        -1.594363000000\\nO              1.537375000000        -1.250940000000        -1.281140000000\\nH             -2.344007000000         0.152110000000         3.333142000000\\nH             -0.155102000000         1.117692000000         2.688332000000\\nH              1.069177000000         0.236345000000         0.744065000000\\nH             -2.111991000000        -2.614237000000         0.068858000000\\nH             -3.312768000000        -1.711446000000         2.018465000000\\nH              2.047151000000        -1.608505000000        -2.080230000000\\n\");\n\tviewer_17470595117851934.setViewStyle({\"style\": \"outline\", \"width\": 0.05});\n\tviewer_17470595117851934.setStyle({\"stick\": {}, \"sphere\": {\"scale\": 0.25}});\n\tviewer_17470595117851934.addLabel(\"C1\",{\"position\": {\"x\": -1.810808, \"y\": -0.240287, \"z\": 2.476861}, \"alignment\": \"center\", \"fontColor\": 0, \"backgroundColor\": 16777215, \"backgroundOpacity\": 0.0});\n\tviewer_17470595117851934.addLabel(\"C2\",{\"position\": {\"x\": -0.576902, \"y\": 0.303662, \"z\": 2.112976}, \"alignment\": \"center\", \"fontColor\": 0, \"backgroundColor\": 16777215, \"backgroundOpacity\": 0.0});\n\tviewer_17470595117851934.addLabel(\"C3\",{\"position\": {\"x\": 0.114382, \"y\": -0.201272, \"z\": 1.007051}, \"alignment\": \"center\", \"fontColor\": 0, \"backgroundColor\": 16777215, \"backgroundOpacity\": 0.0});\n\tviewer_17470595117851934.addLabel(\"C4\",{\"position\": {\"x\": -0.4253179999999999, \"y\": -1.259149, \"z\": 0.252723}, \"alignment\": \"center\", \"fontColor\": 0, \"backgroundColor\": 16777215, \"backgroundOpacity\": 0.0});\n\tviewer_17470595117851934.addLabel(\"C5\",{\"position\": {\"x\": -1.6696899999999997, \"y\": -1.799661, \"z\": 0.6286819999999999}, \"alignment\": \"center\", \"fontColor\": 0, \"backgroundColor\": 16777215, \"backgroundOpacity\": 0.0});\n\tviewer_17470595117851934.addLabel(\"C6\",{\"position\": {\"x\": -2.356468, \"y\": -1.2907129999999998, \"z\": 1.735507}, \"alignment\": \"center\", \"fontColor\": 0, \"backgroundColor\": 16777215, \"backgroundOpacity\": 0.0});\n\tviewer_17470595117851934.addLabel(\"C7\",{\"position\": {\"x\": 0.307098, \"y\": -1.7922829999999998, \"z\": -0.9169639999999999}, \"alignment\": \"center\", \"fontColor\": 0, \"backgroundColor\": 16777215, \"backgroundOpacity\": 0.0});\n\tviewer_17470595117851934.addLabel(\"O8\",{\"position\": {\"x\": -0.174668, \"y\": -2.740386, \"z\": -1.594363}, \"alignment\": \"center\", \"fontColor\": 0, \"backgroundColor\": 16777215, \"backgroundOpacity\": 0.0});\n\tviewer_17470595117851934.addLabel(\"O9\",{\"position\": {\"x\": 1.537375, \"y\": -1.25094, \"z\": -1.2811399999999997}, \"alignment\": \"center\", \"fontColor\": 0, \"backgroundColor\": 16777215, \"backgroundOpacity\": 0.0});\n\tviewer_17470595117851934.addLabel(\"H10\",{\"position\": {\"x\": -2.344007, \"y\": 0.15211, \"z\": 3.333142}, \"alignment\": \"center\", \"fontColor\": 0, \"backgroundColor\": 16777215, \"backgroundOpacity\": 0.0});\n\tviewer_17470595117851934.addLabel(\"H11\",{\"position\": {\"x\": -0.155102, \"y\": 1.117692, \"z\": 2.688332}, \"alignment\": \"center\", \"fontColor\": 0, \"backgroundColor\": 16777215, \"backgroundOpacity\": 0.0});\n\tviewer_17470595117851934.addLabel(\"H12\",{\"position\": {\"x\": 1.069177, \"y\": 0.236345, \"z\": 0.744065}, \"alignment\": \"center\", \"fontColor\": 0, \"backgroundColor\": 16777215, \"backgroundOpacity\": 0.0});\n\tviewer_17470595117851934.addLabel(\"H13\",{\"position\": {\"x\": -2.111991, \"y\": -2.614237, \"z\": 0.068858}, \"alignment\": \"center\", \"fontColor\": 0, \"backgroundColor\": 16777215, \"backgroundOpacity\": 0.0});\n\tviewer_17470595117851934.addLabel(\"H14\",{\"position\": {\"x\": -3.312768, \"y\": -1.711446, \"z\": 2.018465}, \"alignment\": \"center\", \"fontColor\": 0, \"backgroundColor\": 16777215, \"backgroundOpacity\": 0.0});\n\tviewer_17470595117851934.addLabel(\"H15\",{\"position\": {\"x\": 2.047151, \"y\": -1.608505, \"z\": -2.08023}, \"alignment\": \"center\", \"fontColor\": 0, \"backgroundColor\": 16777215, \"backgroundOpacity\": 0.0});\n\tviewer_17470595117851934.zoomTo();\nviewer_17470595117851934.render();\n});\n</script>",
      "text/html": [
       "<div id=\"3dmolviewer_17470595117851934\"  style=\"position: relative; width: 400px; height: 300px;\">\n",
       "        <p id=\"3dmolwarning_17470595117851934\" style=\"background-color:#ffcccc;color:black\">3Dmol.js failed to load for some reason.  Please check your browser console for error messages.<br></p>\n",
       "        </div>\n",
       "<script>\n",
       "\n",
       "var loadScriptAsync = function(uri){\n",
       "  return new Promise((resolve, reject) => {\n",
       "    //this is to ignore the existence of requirejs amd\n",
       "    var savedexports, savedmodule;\n",
       "    if (typeof exports !== 'undefined') savedexports = exports;\n",
       "    else exports = {}\n",
       "    if (typeof module !== 'undefined') savedmodule = module;\n",
       "    else module = {}\n",
       "\n",
       "    var tag = document.createElement('script');\n",
       "    tag.src = uri;\n",
       "    tag.async = true;\n",
       "    tag.onload = () => {\n",
       "        exports = savedexports;\n",
       "        module = savedmodule;\n",
       "        resolve();\n",
       "    };\n",
       "  var firstScriptTag = document.getElementsByTagName('script')[0];\n",
       "  firstScriptTag.parentNode.insertBefore(tag, firstScriptTag);\n",
       "});\n",
       "};\n",
       "\n",
       "if(typeof $3Dmolpromise === 'undefined') {\n",
       "$3Dmolpromise = null;\n",
       "  $3Dmolpromise = loadScriptAsync('https://cdnjs.cloudflare.com/ajax/libs/3Dmol/2.4.2/3Dmol-min.js');\n",
       "}\n",
       "\n",
       "var viewer_17470595117851934 = null;\n",
       "var warn = document.getElementById(\"3dmolwarning_17470595117851934\");\n",
       "if(warn) {\n",
       "    warn.parentNode.removeChild(warn);\n",
       "}\n",
       "$3Dmolpromise.then(function() {\n",
       "viewer_17470595117851934 = $3Dmol.createViewer(document.getElementById(\"3dmolviewer_17470595117851934\"),{backgroundColor:\"white\"});\n",
       "viewer_17470595117851934.zoomTo();\n",
       "\tviewer_17470595117851934.addModel(\"15\\n\\nC             -1.810808000000        -0.240287000000         2.476861000000\\nC             -0.576902000000         0.303662000000         2.112976000000\\nC              0.114382000000        -0.201272000000         1.007051000000\\nC             -0.425318000000        -1.259149000000         0.252723000000\\nC             -1.669690000000        -1.799661000000         0.628682000000\\nC             -2.356468000000        -1.290713000000         1.735507000000\\nC              0.307098000000        -1.792283000000        -0.916964000000\\nO             -0.174668000000        -2.740386000000        -1.594363000000\\nO              1.537375000000        -1.250940000000        -1.281140000000\\nH             -2.344007000000         0.152110000000         3.333142000000\\nH             -0.155102000000         1.117692000000         2.688332000000\\nH              1.069177000000         0.236345000000         0.744065000000\\nH             -2.111991000000        -2.614237000000         0.068858000000\\nH             -3.312768000000        -1.711446000000         2.018465000000\\nH              2.047151000000        -1.608505000000        -2.080230000000\\n\");\n",
       "\tviewer_17470595117851934.setViewStyle({\"style\": \"outline\", \"width\": 0.05});\n",
       "\tviewer_17470595117851934.setStyle({\"stick\": {}, \"sphere\": {\"scale\": 0.25}});\n",
       "\tviewer_17470595117851934.addLabel(\"C1\",{\"position\": {\"x\": -1.810808, \"y\": -0.240287, \"z\": 2.476861}, \"alignment\": \"center\", \"fontColor\": 0, \"backgroundColor\": 16777215, \"backgroundOpacity\": 0.0});\n",
       "\tviewer_17470595117851934.addLabel(\"C2\",{\"position\": {\"x\": -0.576902, \"y\": 0.303662, \"z\": 2.112976}, \"alignment\": \"center\", \"fontColor\": 0, \"backgroundColor\": 16777215, \"backgroundOpacity\": 0.0});\n",
       "\tviewer_17470595117851934.addLabel(\"C3\",{\"position\": {\"x\": 0.114382, \"y\": -0.201272, \"z\": 1.007051}, \"alignment\": \"center\", \"fontColor\": 0, \"backgroundColor\": 16777215, \"backgroundOpacity\": 0.0});\n",
       "\tviewer_17470595117851934.addLabel(\"C4\",{\"position\": {\"x\": -0.4253179999999999, \"y\": -1.259149, \"z\": 0.252723}, \"alignment\": \"center\", \"fontColor\": 0, \"backgroundColor\": 16777215, \"backgroundOpacity\": 0.0});\n",
       "\tviewer_17470595117851934.addLabel(\"C5\",{\"position\": {\"x\": -1.6696899999999997, \"y\": -1.799661, \"z\": 0.6286819999999999}, \"alignment\": \"center\", \"fontColor\": 0, \"backgroundColor\": 16777215, \"backgroundOpacity\": 0.0});\n",
       "\tviewer_17470595117851934.addLabel(\"C6\",{\"position\": {\"x\": -2.356468, \"y\": -1.2907129999999998, \"z\": 1.735507}, \"alignment\": \"center\", \"fontColor\": 0, \"backgroundColor\": 16777215, \"backgroundOpacity\": 0.0});\n",
       "\tviewer_17470595117851934.addLabel(\"C7\",{\"position\": {\"x\": 0.307098, \"y\": -1.7922829999999998, \"z\": -0.9169639999999999}, \"alignment\": \"center\", \"fontColor\": 0, \"backgroundColor\": 16777215, \"backgroundOpacity\": 0.0});\n",
       "\tviewer_17470595117851934.addLabel(\"O8\",{\"position\": {\"x\": -0.174668, \"y\": -2.740386, \"z\": -1.594363}, \"alignment\": \"center\", \"fontColor\": 0, \"backgroundColor\": 16777215, \"backgroundOpacity\": 0.0});\n",
       "\tviewer_17470595117851934.addLabel(\"O9\",{\"position\": {\"x\": 1.537375, \"y\": -1.25094, \"z\": -1.2811399999999997}, \"alignment\": \"center\", \"fontColor\": 0, \"backgroundColor\": 16777215, \"backgroundOpacity\": 0.0});\n",
       "\tviewer_17470595117851934.addLabel(\"H10\",{\"position\": {\"x\": -2.344007, \"y\": 0.15211, \"z\": 3.333142}, \"alignment\": \"center\", \"fontColor\": 0, \"backgroundColor\": 16777215, \"backgroundOpacity\": 0.0});\n",
       "\tviewer_17470595117851934.addLabel(\"H11\",{\"position\": {\"x\": -0.155102, \"y\": 1.117692, \"z\": 2.688332}, \"alignment\": \"center\", \"fontColor\": 0, \"backgroundColor\": 16777215, \"backgroundOpacity\": 0.0});\n",
       "\tviewer_17470595117851934.addLabel(\"H12\",{\"position\": {\"x\": 1.069177, \"y\": 0.236345, \"z\": 0.744065}, \"alignment\": \"center\", \"fontColor\": 0, \"backgroundColor\": 16777215, \"backgroundOpacity\": 0.0});\n",
       "\tviewer_17470595117851934.addLabel(\"H13\",{\"position\": {\"x\": -2.111991, \"y\": -2.614237, \"z\": 0.068858}, \"alignment\": \"center\", \"fontColor\": 0, \"backgroundColor\": 16777215, \"backgroundOpacity\": 0.0});\n",
       "\tviewer_17470595117851934.addLabel(\"H14\",{\"position\": {\"x\": -3.312768, \"y\": -1.711446, \"z\": 2.018465}, \"alignment\": \"center\", \"fontColor\": 0, \"backgroundColor\": 16777215, \"backgroundOpacity\": 0.0});\n",
       "\tviewer_17470595117851934.addLabel(\"H15\",{\"position\": {\"x\": 2.047151, \"y\": -1.608505, \"z\": -2.08023}, \"alignment\": \"center\", \"fontColor\": 0, \"backgroundColor\": 16777215, \"backgroundOpacity\": 0.0});\n",
       "\tviewer_17470595117851934.zoomTo();\n",
       "viewer_17470595117851934.render();\n",
       "});\n",
       "</script>"
      ]
     },
     "metadata": {},
     "output_type": "display_data"
    }
   ],
   "source": [
    "import veloxchem as vlx\n",
    "molecule = vlx.Molecule.read_smiles('C1=CC=C(C=C1)C(=O)O')\n",
    "molecule.show(atom_indices=True, atom_labels=True)"
   ]
  },
  {
   "cell_type": "markdown",
   "id": "3a325952",
   "metadata": {},
   "source": [
    "## Structure optimization\n"
   ]
  },
  {
   "cell_type": "markdown",
   "id": "9e3332ba",
   "metadata": {},
   "source": [
    "## Spectrum plotting\n"
   ]
  },
  {
   "cell_type": "markdown",
   "id": "51a46d05",
   "metadata": {},
   "source": [
    "## Normal modes"
   ]
  }
 ],
 "metadata": {
  "kernelspec": {
   "display_name": "vlx-github",
   "language": "python",
   "name": "python3"
  },
  "language_info": {
   "codemirror_mode": {
    "name": "ipython",
    "version": 3
   },
   "file_extension": ".py",
   "mimetype": "text/x-python",
   "name": "python",
   "nbconvert_exporter": "python",
   "pygments_lexer": "ipython3",
   "version": "3.12.8"
  }
 },
 "nbformat": 4,
 "nbformat_minor": 5
}
