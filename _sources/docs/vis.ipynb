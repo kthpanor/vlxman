{
 "cells": [
  {
   "cell_type": "markdown",
   "id": "bbdcc908",
   "metadata": {},
   "source": [
    "# Jupyter notebooks\n",
    "## Molecular structure"
   ]
  },
  {
   "cell_type": "markdown",
   "id": "c009e31c",
   "metadata": {},
   "source": [
    "In Jupyter notebook, a Veloxchem molecule object can be visualize using the show function. This is powevered by Py3DMol. The atom_indices and atom_labels options can be used."
   ]
  },
  {
   "cell_type": "code",
   "execution_count": 1,
   "id": "df335b64",
   "metadata": {},
   "outputs": [
    {
     "data": {
      "application/3dmoljs_load.v0": "<div id=\"3dmolviewer_17474016906584382\"  style=\"position: relative; width: 400px; height: 300px;\">\n        <p id=\"3dmolwarning_17474016906584382\" style=\"background-color:#ffcccc;color:black\">3Dmol.js failed to load for some reason.  Please check your browser console for error messages.<br></p>\n        </div>\n<script>\n\nvar loadScriptAsync = function(uri){\n  return new Promise((resolve, reject) => {\n    //this is to ignore the existence of requirejs amd\n    var savedexports, savedmodule;\n    if (typeof exports !== 'undefined') savedexports = exports;\n    else exports = {}\n    if (typeof module !== 'undefined') savedmodule = module;\n    else module = {}\n\n    var tag = document.createElement('script');\n    tag.src = uri;\n    tag.async = true;\n    tag.onload = () => {\n        exports = savedexports;\n        module = savedmodule;\n        resolve();\n    };\n  var firstScriptTag = document.getElementsByTagName('script')[0];\n  firstScriptTag.parentNode.insertBefore(tag, firstScriptTag);\n});\n};\n\nif(typeof $3Dmolpromise === 'undefined') {\n$3Dmolpromise = null;\n  $3Dmolpromise = loadScriptAsync('https://cdnjs.cloudflare.com/ajax/libs/3Dmol/2.4.2/3Dmol-min.js');\n}\n\nvar viewer_17474016906584382 = null;\nvar warn = document.getElementById(\"3dmolwarning_17474016906584382\");\nif(warn) {\n    warn.parentNode.removeChild(warn);\n}\n$3Dmolpromise.then(function() {\nviewer_17474016906584382 = $3Dmol.createViewer(document.getElementById(\"3dmolviewer_17474016906584382\"),{backgroundColor:\"white\"});\nviewer_17474016906584382.zoomTo();\n\tviewer_17474016906584382.addModel(\"15\\n\\nC             -0.045431000000         1.985714000000        -1.068089000000\\nC             -0.785397000000         0.832807000000        -1.340121000000\\nC             -0.462986000000        -0.373231000000        -0.709821000000\\nC              0.607616000000        -0.435910000000         0.202232000000\\nC              1.345794000000         0.731857000000         0.468322000000\\nC              1.018819000000         1.935160000000        -0.164965000000\\nC              0.954661000000        -1.708145000000         0.872913000000\\nO              0.294454000000        -2.755921000000         0.635933000000\\nO              2.015464000000        -1.760191000000         1.773604000000\\nH             -0.296655000000         2.918093000000        -1.557015000000\\nH             -1.609932000000         0.873208000000        -2.040193000000\\nH             -1.050525000000        -1.254224000000        -0.936128000000\\nH              2.174869000000         0.716966000000         1.164537000000\\nH              1.591497000000         2.829336000000         0.044996000000\\nH              2.261507000000        -2.626101000000         2.238288000000\\n\");\n\tviewer_17474016906584382.setViewStyle({\"style\": \"outline\", \"width\": 0.05});\n\tviewer_17474016906584382.setStyle({\"stick\": {}, \"sphere\": {\"scale\": 0.25}});\n\tviewer_17474016906584382.addLabel(\"C1\",{\"position\": {\"x\": -0.045431, \"y\": 1.985714, \"z\": -1.068089}, \"alignment\": \"center\", \"fontColor\": 0, \"backgroundColor\": 16777215, \"backgroundOpacity\": 0.0});\n\tviewer_17474016906584382.addLabel(\"C2\",{\"position\": {\"x\": -0.785397, \"y\": 0.832807, \"z\": -1.3401209999999997}, \"alignment\": \"center\", \"fontColor\": 0, \"backgroundColor\": 16777215, \"backgroundOpacity\": 0.0});\n\tviewer_17474016906584382.addLabel(\"C3\",{\"position\": {\"x\": -0.46298599999999995, \"y\": -0.3732309999999999, \"z\": -0.709821}, \"alignment\": \"center\", \"fontColor\": 0, \"backgroundColor\": 16777215, \"backgroundOpacity\": 0.0});\n\tviewer_17474016906584382.addLabel(\"C4\",{\"position\": {\"x\": 0.607616, \"y\": -0.43590999999999996, \"z\": 0.202232}, \"alignment\": \"center\", \"fontColor\": 0, \"backgroundColor\": 16777215, \"backgroundOpacity\": 0.0});\n\tviewer_17474016906584382.addLabel(\"C5\",{\"position\": {\"x\": 1.3457939999999997, \"y\": 0.7318569999999999, \"z\": 0.468322}, \"alignment\": \"center\", \"fontColor\": 0, \"backgroundColor\": 16777215, \"backgroundOpacity\": 0.0});\n\tviewer_17474016906584382.addLabel(\"C6\",{\"position\": {\"x\": 1.018819, \"y\": 1.93516, \"z\": -0.164965}, \"alignment\": \"center\", \"fontColor\": 0, \"backgroundColor\": 16777215, \"backgroundOpacity\": 0.0});\n\tviewer_17474016906584382.addLabel(\"C7\",{\"position\": {\"x\": 0.954661, \"y\": -1.708145, \"z\": 0.872913}, \"alignment\": \"center\", \"fontColor\": 0, \"backgroundColor\": 16777215, \"backgroundOpacity\": 0.0});\n\tviewer_17474016906584382.addLabel(\"O8\",{\"position\": {\"x\": 0.294454, \"y\": -2.7559209999999994, \"z\": 0.635933}, \"alignment\": \"center\", \"fontColor\": 0, \"backgroundColor\": 16777215, \"backgroundOpacity\": 0.0});\n\tviewer_17474016906584382.addLabel(\"O9\",{\"position\": {\"x\": 2.015464, \"y\": -1.760191, \"z\": 1.773604}, \"alignment\": \"center\", \"fontColor\": 0, \"backgroundColor\": 16777215, \"backgroundOpacity\": 0.0});\n\tviewer_17474016906584382.addLabel(\"H10\",{\"position\": {\"x\": -0.296655, \"y\": 2.918093, \"z\": -1.557015}, \"alignment\": \"center\", \"fontColor\": 0, \"backgroundColor\": 16777215, \"backgroundOpacity\": 0.0});\n\tviewer_17474016906584382.addLabel(\"H11\",{\"position\": {\"x\": -1.609932, \"y\": 0.8732079999999999, \"z\": -2.040193}, \"alignment\": \"center\", \"fontColor\": 0, \"backgroundColor\": 16777215, \"backgroundOpacity\": 0.0});\n\tviewer_17474016906584382.addLabel(\"H12\",{\"position\": {\"x\": -1.050525, \"y\": -1.254224, \"z\": -0.936128}, \"alignment\": \"center\", \"fontColor\": 0, \"backgroundColor\": 16777215, \"backgroundOpacity\": 0.0});\n\tviewer_17474016906584382.addLabel(\"H13\",{\"position\": {\"x\": 2.174869, \"y\": 0.716966, \"z\": 1.1645369999999997}, \"alignment\": \"center\", \"fontColor\": 0, \"backgroundColor\": 16777215, \"backgroundOpacity\": 0.0});\n\tviewer_17474016906584382.addLabel(\"H14\",{\"position\": {\"x\": 1.591497, \"y\": 2.8293359999999996, \"z\": 0.044996}, \"alignment\": \"center\", \"fontColor\": 0, \"backgroundColor\": 16777215, \"backgroundOpacity\": 0.0});\n\tviewer_17474016906584382.addLabel(\"H15\",{\"position\": {\"x\": 2.261507, \"y\": -2.626101, \"z\": 2.238288}, \"alignment\": \"center\", \"fontColor\": 0, \"backgroundColor\": 16777215, \"backgroundOpacity\": 0.0});\n\tviewer_17474016906584382.zoomTo();\nviewer_17474016906584382.render();\n});\n</script>",
      "text/html": [
       "<div id=\"3dmolviewer_17474016906584382\"  style=\"position: relative; width: 400px; height: 300px;\">\n",
       "        <p id=\"3dmolwarning_17474016906584382\" style=\"background-color:#ffcccc;color:black\">3Dmol.js failed to load for some reason.  Please check your browser console for error messages.<br></p>\n",
       "        </div>\n",
       "<script>\n",
       "\n",
       "var loadScriptAsync = function(uri){\n",
       "  return new Promise((resolve, reject) => {\n",
       "    //this is to ignore the existence of requirejs amd\n",
       "    var savedexports, savedmodule;\n",
       "    if (typeof exports !== 'undefined') savedexports = exports;\n",
       "    else exports = {}\n",
       "    if (typeof module !== 'undefined') savedmodule = module;\n",
       "    else module = {}\n",
       "\n",
       "    var tag = document.createElement('script');\n",
       "    tag.src = uri;\n",
       "    tag.async = true;\n",
       "    tag.onload = () => {\n",
       "        exports = savedexports;\n",
       "        module = savedmodule;\n",
       "        resolve();\n",
       "    };\n",
       "  var firstScriptTag = document.getElementsByTagName('script')[0];\n",
       "  firstScriptTag.parentNode.insertBefore(tag, firstScriptTag);\n",
       "});\n",
       "};\n",
       "\n",
       "if(typeof $3Dmolpromise === 'undefined') {\n",
       "$3Dmolpromise = null;\n",
       "  $3Dmolpromise = loadScriptAsync('https://cdnjs.cloudflare.com/ajax/libs/3Dmol/2.4.2/3Dmol-min.js');\n",
       "}\n",
       "\n",
       "var viewer_17474016906584382 = null;\n",
       "var warn = document.getElementById(\"3dmolwarning_17474016906584382\");\n",
       "if(warn) {\n",
       "    warn.parentNode.removeChild(warn);\n",
       "}\n",
       "$3Dmolpromise.then(function() {\n",
       "viewer_17474016906584382 = $3Dmol.createViewer(document.getElementById(\"3dmolviewer_17474016906584382\"),{backgroundColor:\"white\"});\n",
       "viewer_17474016906584382.zoomTo();\n",
       "\tviewer_17474016906584382.addModel(\"15\\n\\nC             -0.045431000000         1.985714000000        -1.068089000000\\nC             -0.785397000000         0.832807000000        -1.340121000000\\nC             -0.462986000000        -0.373231000000        -0.709821000000\\nC              0.607616000000        -0.435910000000         0.202232000000\\nC              1.345794000000         0.731857000000         0.468322000000\\nC              1.018819000000         1.935160000000        -0.164965000000\\nC              0.954661000000        -1.708145000000         0.872913000000\\nO              0.294454000000        -2.755921000000         0.635933000000\\nO              2.015464000000        -1.760191000000         1.773604000000\\nH             -0.296655000000         2.918093000000        -1.557015000000\\nH             -1.609932000000         0.873208000000        -2.040193000000\\nH             -1.050525000000        -1.254224000000        -0.936128000000\\nH              2.174869000000         0.716966000000         1.164537000000\\nH              1.591497000000         2.829336000000         0.044996000000\\nH              2.261507000000        -2.626101000000         2.238288000000\\n\");\n",
       "\tviewer_17474016906584382.setViewStyle({\"style\": \"outline\", \"width\": 0.05});\n",
       "\tviewer_17474016906584382.setStyle({\"stick\": {}, \"sphere\": {\"scale\": 0.25}});\n",
       "\tviewer_17474016906584382.addLabel(\"C1\",{\"position\": {\"x\": -0.045431, \"y\": 1.985714, \"z\": -1.068089}, \"alignment\": \"center\", \"fontColor\": 0, \"backgroundColor\": 16777215, \"backgroundOpacity\": 0.0});\n",
       "\tviewer_17474016906584382.addLabel(\"C2\",{\"position\": {\"x\": -0.785397, \"y\": 0.832807, \"z\": -1.3401209999999997}, \"alignment\": \"center\", \"fontColor\": 0, \"backgroundColor\": 16777215, \"backgroundOpacity\": 0.0});\n",
       "\tviewer_17474016906584382.addLabel(\"C3\",{\"position\": {\"x\": -0.46298599999999995, \"y\": -0.3732309999999999, \"z\": -0.709821}, \"alignment\": \"center\", \"fontColor\": 0, \"backgroundColor\": 16777215, \"backgroundOpacity\": 0.0});\n",
       "\tviewer_17474016906584382.addLabel(\"C4\",{\"position\": {\"x\": 0.607616, \"y\": -0.43590999999999996, \"z\": 0.202232}, \"alignment\": \"center\", \"fontColor\": 0, \"backgroundColor\": 16777215, \"backgroundOpacity\": 0.0});\n",
       "\tviewer_17474016906584382.addLabel(\"C5\",{\"position\": {\"x\": 1.3457939999999997, \"y\": 0.7318569999999999, \"z\": 0.468322}, \"alignment\": \"center\", \"fontColor\": 0, \"backgroundColor\": 16777215, \"backgroundOpacity\": 0.0});\n",
       "\tviewer_17474016906584382.addLabel(\"C6\",{\"position\": {\"x\": 1.018819, \"y\": 1.93516, \"z\": -0.164965}, \"alignment\": \"center\", \"fontColor\": 0, \"backgroundColor\": 16777215, \"backgroundOpacity\": 0.0});\n",
       "\tviewer_17474016906584382.addLabel(\"C7\",{\"position\": {\"x\": 0.954661, \"y\": -1.708145, \"z\": 0.872913}, \"alignment\": \"center\", \"fontColor\": 0, \"backgroundColor\": 16777215, \"backgroundOpacity\": 0.0});\n",
       "\tviewer_17474016906584382.addLabel(\"O8\",{\"position\": {\"x\": 0.294454, \"y\": -2.7559209999999994, \"z\": 0.635933}, \"alignment\": \"center\", \"fontColor\": 0, \"backgroundColor\": 16777215, \"backgroundOpacity\": 0.0});\n",
       "\tviewer_17474016906584382.addLabel(\"O9\",{\"position\": {\"x\": 2.015464, \"y\": -1.760191, \"z\": 1.773604}, \"alignment\": \"center\", \"fontColor\": 0, \"backgroundColor\": 16777215, \"backgroundOpacity\": 0.0});\n",
       "\tviewer_17474016906584382.addLabel(\"H10\",{\"position\": {\"x\": -0.296655, \"y\": 2.918093, \"z\": -1.557015}, \"alignment\": \"center\", \"fontColor\": 0, \"backgroundColor\": 16777215, \"backgroundOpacity\": 0.0});\n",
       "\tviewer_17474016906584382.addLabel(\"H11\",{\"position\": {\"x\": -1.609932, \"y\": 0.8732079999999999, \"z\": -2.040193}, \"alignment\": \"center\", \"fontColor\": 0, \"backgroundColor\": 16777215, \"backgroundOpacity\": 0.0});\n",
       "\tviewer_17474016906584382.addLabel(\"H12\",{\"position\": {\"x\": -1.050525, \"y\": -1.254224, \"z\": -0.936128}, \"alignment\": \"center\", \"fontColor\": 0, \"backgroundColor\": 16777215, \"backgroundOpacity\": 0.0});\n",
       "\tviewer_17474016906584382.addLabel(\"H13\",{\"position\": {\"x\": 2.174869, \"y\": 0.716966, \"z\": 1.1645369999999997}, \"alignment\": \"center\", \"fontColor\": 0, \"backgroundColor\": 16777215, \"backgroundOpacity\": 0.0});\n",
       "\tviewer_17474016906584382.addLabel(\"H14\",{\"position\": {\"x\": 1.591497, \"y\": 2.8293359999999996, \"z\": 0.044996}, \"alignment\": \"center\", \"fontColor\": 0, \"backgroundColor\": 16777215, \"backgroundOpacity\": 0.0});\n",
       "\tviewer_17474016906584382.addLabel(\"H15\",{\"position\": {\"x\": 2.261507, \"y\": -2.626101, \"z\": 2.238288}, \"alignment\": \"center\", \"fontColor\": 0, \"backgroundColor\": 16777215, \"backgroundOpacity\": 0.0});\n",
       "\tviewer_17474016906584382.zoomTo();\n",
       "viewer_17474016906584382.render();\n",
       "});\n",
       "</script>"
      ]
     },
     "metadata": {},
     "output_type": "display_data"
    }
   ],
   "source": [
    "import veloxchem as vlx\n",
    "molecule = vlx.Molecule.read_smiles('C1=CC=C(C=C1)C(=O)O')\n",
    "molecule.show(atom_indices=True, atom_labels=True)"
   ]
  },
  {
   "cell_type": "markdown",
   "id": "3a325952",
   "metadata": {},
   "source": [
    "## Structure optimization\n"
   ]
  },
  {
   "cell_type": "code",
   "execution_count": 2,
   "id": "d921b709",
   "metadata": {},
   "outputs": [],
   "source": [
    "import veloxchem as vlx\n",
    "import numpy as np\n",
    "import h5py\n",
    "\n",
    "def read_from_h5(filename, label=\"rsp\"):\n",
    "    \"\"\" Reads the data from a checkpoint file and returns it as a dictionary.\n",
    "\n",
    "        :param filename: the name of the checkpoint file.\n",
    "        :param label   : the label for which data is read from file;\n",
    "                         rsp - response; scf - SCF; opt - optimization;\n",
    "                         vib - vibrational analysis.\n",
    "    \"\"\"\n",
    "    res_dict = {}\n",
    "    h5f = h5py.File(filename, \"r\")\n",
    "\n",
    "    if label is None:\n",
    "        h5f_dict = h5f\n",
    "    else:\n",
    "        h5f_dict = h5f[label]\n",
    "\n",
    "    for key in h5f_dict:\n",
    "        data = np.array(h5f_dict[key])\n",
    "        res_dict[key] = data\n",
    "    h5f.close()\n",
    "\n",
    "    return res_dict\n",
    "\n",
    "\n"
   ]
  },
  {
   "cell_type": "markdown",
   "id": "263bd717",
   "metadata": {},
   "source": []
  },
  {
   "cell_type": "markdown",
   "id": "9e3332ba",
   "metadata": {},
   "source": [
    "## Spectrum plotting\n"
   ]
  },
  {
   "cell_type": "markdown",
   "id": "51a46d05",
   "metadata": {},
   "source": [
    "## Normal modes"
   ]
  }
 ],
 "metadata": {
  "kernelspec": {
   "display_name": "vlx-github",
   "language": "python",
   "name": "python3"
  },
  "language_info": {
   "codemirror_mode": {
    "name": "ipython",
    "version": 3
   },
   "file_extension": ".py",
   "mimetype": "text/x-python",
   "name": "python",
   "nbconvert_exporter": "python",
   "pygments_lexer": "ipython3",
   "version": "3.12.8"
  }
 },
 "nbformat": 4,
 "nbformat_minor": 5
}
