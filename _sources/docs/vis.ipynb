{
 "cells": [
  {
   "cell_type": "markdown",
   "id": "bbdcc908",
   "metadata": {},
   "source": [
    "# Jupyter notebooks\n",
    "## Molecular stucture\n",
    "## Structure optimization\n",
    "## Spectrum plotting\n",
    "## Normal modes\n",
    "\n"
   ]
  },
  {
   "cell_type": "markdown",
   "id": "3a325952",
   "metadata": {},
   "source": []
  }
 ],
 "metadata": {
  "language_info": {
   "name": "python"
  }
 },
 "nbformat": 4,
 "nbformat_minor": 5
}
