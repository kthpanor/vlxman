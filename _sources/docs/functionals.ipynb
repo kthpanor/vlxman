{
 "cells": [
  {
   "cell_type": "markdown",
   "id": "89c67022",
   "metadata": {
    "tags": []
   },
   "source": [
    "# Exchange–correlation functionals\n",
    "LIBXC is used as a library for exchange-correlation functionnals {cite}`LIBXC`."
   ]
  },
  {
   "cell_type": "markdown",
   "id": "d7426e48-2d77-40bf-99d5-871ac4f3449b",
   "metadata": {},
   "source": [
    "## Available functionals\n",
    "\n",
    "The density functionals provided in the VeloxChem library can be listed with the `available_functionals` method."
   ]
  },
  {
   "cell_type": "code",
   "execution_count": null,
   "id": "da13ac76",
   "metadata": {},
   "outputs": [],
   "source": [
    "import veloxchem as vlx\n",
    "\n",
    "avail_funcs = vlx.available_functionals()\n",
    "\n",
    "print('Available functionals:\\n')\n",
    "\n",
    "for i in range(0, len(avail_funcs), 8):\n",
    "    print(', '.join(avail_funcs[i:i + 8]))"
   ]
  },
  {
   "cell_type": "markdown",
   "id": "a423f308-835f-46b9-a73c-c4b030456c1d",
   "metadata": {},
   "source": [
    "More functionals are being implemented and range-separated hybrids are a priority."
   ]
  },
  {
   "cell_type": "markdown",
   "id": "16a36d02",
   "metadata": {},
   "source": [
    "## DFT settings\n",
    "\n",
    "The choice of functional and related settings are performed in the input file section `method settings`:\n",
    "\n",
    "```\n",
    "@method settings\n",
    "xcfun: b3lyp\n",
    "@end\n",
    "```\n",
    "\n",
    "To change to another functional, replace `b3lyp` with any of the others (as spelled in the list above).\n",
    "\n",
    "The accuracy level of the grid will be auto-determined for a given functional."
   ]
  }
 ],
 "metadata": {
  "kernelspec": {
   "display_name": "Python 3 (ipykernel)",
   "language": "python",
   "name": "python3"
  },
  "language_info": {
   "codemirror_mode": {
    "name": "ipython",
    "version": 3
   },
   "file_extension": ".py",
   "mimetype": "text/x-python",
   "name": "python",
   "nbconvert_exporter": "python",
   "pygments_lexer": "ipython3",
   "version": "3.12.9"
  }
 },
 "nbformat": 4,
 "nbformat_minor": 5
}
